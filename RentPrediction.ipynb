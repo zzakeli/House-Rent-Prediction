{
 "cells": [
  {
   "cell_type": "code",
   "execution_count": 1,
   "id": "b1f3d691",
   "metadata": {},
   "outputs": [],
   "source": [
    "import pandas as pd\n",
    "import matplotlib.pyplot as plt\n",
    "import seaborn as sns\n",
    "from sklearn.model_selection import train_test_split, GridSearchCV\n",
    "from sklearn.linear_model import LinearRegression\n",
    "from sklearn.pipeline import Pipeline\n",
    "from sklearn.impute import SimpleImputer\n",
    "from sklearn.preprocessing import StandardScaler"
   ]
  },
  {
   "cell_type": "code",
   "execution_count": 2,
   "id": "1c85a41d",
   "metadata": {},
   "outputs": [
    {
     "name": "stdout",
     "output_type": "stream",
     "text": [
      "    Posted On  BHK   Rent  Size            Floor    Area Type  \\\n",
      "0  2022-05-18    2  10000  1100  Ground out of 2   Super Area   \n",
      "1  2022-05-13    2  20000   800       1 out of 3   Super Area   \n",
      "2  2022-05-16    2  17000  1000       1 out of 3   Super Area   \n",
      "3  2022-07-04    2  10000   800       1 out of 2   Super Area   \n",
      "4  2022-05-09    2   7500   850       1 out of 2  Carpet Area   \n",
      "\n",
      "              Area Locality     City Furnishing Status  Tenant Preferred  \\\n",
      "0                    Bandel  Kolkata       Unfurnished  Bachelors/Family   \n",
      "1  Phool Bagan, Kankurgachi  Kolkata    Semi-Furnished  Bachelors/Family   \n",
      "2   Salt Lake City Sector 2  Kolkata    Semi-Furnished  Bachelors/Family   \n",
      "3               Dumdum Park  Kolkata       Unfurnished  Bachelors/Family   \n",
      "4             South Dum Dum  Kolkata       Unfurnished         Bachelors   \n",
      "\n",
      "   Bathroom Point of Contact  \n",
      "0         2    Contact Owner  \n",
      "1         1    Contact Owner  \n",
      "2         1    Contact Owner  \n",
      "3         1    Contact Owner  \n",
      "4         1    Contact Owner  \n"
     ]
    }
   ],
   "source": [
    "file_path = \"dataset/House_Rent_Dataset.csv\"\n",
    "\n",
    "df = pd.read_csv(file_path)\n",
    "\n",
    "print(df.head())"
   ]
  },
  {
   "cell_type": "code",
   "execution_count": 3,
   "id": "004d100e",
   "metadata": {},
   "outputs": [
    {
     "name": "stdout",
     "output_type": "stream",
     "text": [
      "<class 'pandas.core.frame.DataFrame'>\n",
      "RangeIndex: 4746 entries, 0 to 4745\n",
      "Data columns (total 12 columns):\n",
      " #   Column             Non-Null Count  Dtype \n",
      "---  ------             --------------  ----- \n",
      " 0   Posted On          4746 non-null   object\n",
      " 1   BHK                4746 non-null   int64 \n",
      " 2   Rent               4746 non-null   int64 \n",
      " 3   Size               4746 non-null   int64 \n",
      " 4   Floor              4746 non-null   object\n",
      " 5   Area Type          4746 non-null   object\n",
      " 6   Area Locality      4746 non-null   object\n",
      " 7   City               4746 non-null   object\n",
      " 8   Furnishing Status  4746 non-null   object\n",
      " 9   Tenant Preferred   4746 non-null   object\n",
      " 10  Bathroom           4746 non-null   int64 \n",
      " 11  Point of Contact   4746 non-null   object\n",
      "dtypes: int64(4), object(8)\n",
      "memory usage: 445.1+ KB\n",
      "None\n"
     ]
    }
   ],
   "source": [
    "print(df.info())"
   ]
  },
  {
   "cell_type": "code",
   "execution_count": 4,
   "id": "3be596b4",
   "metadata": {},
   "outputs": [
    {
     "name": "stdout",
     "output_type": "stream",
     "text": [
      "               BHK          Rent         Size     Bathroom\n",
      "count  4746.000000  4.746000e+03  4746.000000  4746.000000\n",
      "mean      2.083860  3.499345e+04   967.490729     1.965866\n",
      "std       0.832256  7.810641e+04   634.202328     0.884532\n",
      "min       1.000000  1.200000e+03    10.000000     1.000000\n",
      "25%       2.000000  1.000000e+04   550.000000     1.000000\n",
      "50%       2.000000  1.600000e+04   850.000000     2.000000\n",
      "75%       3.000000  3.300000e+04  1200.000000     2.000000\n",
      "max       6.000000  3.500000e+06  8000.000000    10.000000\n"
     ]
    }
   ],
   "source": [
    "print(df.describe())"
   ]
  },
  {
   "cell_type": "code",
   "execution_count": null,
   "id": "7dd34372",
   "metadata": {},
   "outputs": [
    {
     "name": "stdout",
     "output_type": "stream",
     "text": [
      "Posted On            0\n",
      "BHK                  0\n",
      "Rent                 0\n",
      "Size                 0\n",
      "Floor                0\n",
      "Area Type            0\n",
      "Area Locality        0\n",
      "City                 0\n",
      "Furnishing Status    0\n",
      "Tenant Preferred     0\n",
      "Bathroom             0\n",
      "Point of Contact     0\n",
      "dtype: int64\n"
     ]
    }
   ],
   "source": [
    "print(df.isna().sum())"
   ]
  },
  {
   "cell_type": "code",
   "execution_count": null,
   "id": "a6e874e9",
   "metadata": {},
   "outputs": [
    {
     "name": "stdout",
     "output_type": "stream",
     "text": [
      "['Ground out of 2' '1 out of 3' '1 out of 2' 'Ground out of 1'\n",
      " 'Ground out of 4' '1 out of 4' '1 out of 1' 'Ground out of 3'\n",
      " '2 out of 3' '4 out of 5' '2 out of 2' '2 out of 5' '4 out of 14'\n",
      " '3 out of 3' '5 out of 5' '4 out of 4' '7 out of 8' '2 out of 4'\n",
      " '3 out of 4' '1 out of 5' '8 out of 5' 'Ground out of 6' '2 out of 1'\n",
      " 'Upper Basement out of 4' 'Ground out of 5' '3 out of 5' '11 out of 19'\n",
      " '5 out of 10' '11 out of 14' 'Lower Basement out of 2' '2 out of 7'\n",
      " '4 out of 10' '7 out of 10' '2 out of 13' '6 out of 7' '4 out of 7'\n",
      " '14 out of 14' '43 out of 78' '2 out of 8' '13 out of 18' '5 out of 12'\n",
      " '18 out of 24' '3 out of 7' '17 out of 31' '11 out of 21' '7 out of 19'\n",
      " '14 out of 23' '9 out of 20' 'Upper Basement out of 9' '19 out of 24'\n",
      " '3 out of 21' '1 out of 22' '8 out of 8' '6 out of 12' '4 out of 58'\n",
      " 'Upper Basement out of 16' '60 out of 66' '34 out of 48' '5 out of 8'\n",
      " '5 out of 14' '14 out of 40' '5 out of 7' '9 out of 22' '12 out of 18'\n",
      " '26 out of 44' '1 out of 8' '25 out of 42' '25 out of 41' '53 out of 78'\n",
      " 'Ground out of 7' '14 out of 20' '13 out of 20' '16 out of 23'\n",
      " '10 out of 18' '39 out of 60' '16 out of 21' '10 out of 32' '4 out of 8'\n",
      " '12 out of 24' '32 out of 41' '3 out of 30' '13 out of 21' '9 out of 29'\n",
      " '47 out of 89' '7 out of 41' '28 out of 30' '13 out of 15' '6 out of 21'\n",
      " '8 out of 16' '2 out of 6' '5 out of 19' '3 out of 11' '17 out of 42'\n",
      " '10 out of 12' '8 out of 28' '9 out of 15' '14 out of 22' '18 out of 40'\n",
      " '9 out of 17' '12 out of 45' '25 out of 35' '7 out of 15' '10 out of 16'\n",
      " 'Upper Basement out of 20' '5 out of 20' 'Upper Basement out of 40'\n",
      " '5 out of 18' '34 out of 58' '4 out of 6' '20 out of 22' '12 out of 19'\n",
      " '15 out of 18' '65 out of 78' '6 out of 16' '17 out of 22' '6 out of 24'\n",
      " '40 out of 75' '19 out of 38' '15 out of 31' '11 out of 28'\n",
      " '10 out of 22' '17 out of 24' '15 out of 19' '9 out of 10' '7 out of 12'\n",
      " '8 out of 20' '11 out of 13' '9 out of 19' '37 out of 51' '6 out of 11'\n",
      " '8 out of 15' '11 out of 20' '10 out of 23' 'Upper Basement out of 10'\n",
      " '7 out of 23' '4 out of 11' '17 out of 43' '7 out of 22' '14 out of 18'\n",
      " '6 out of 10' '8 out of 12' '3 out of 18' '7 out of 7' '14 out of 58'\n",
      " '18 out of 23' '19 out of 19' '13 out of 14' '7 out of 11' '11 out of 22'\n",
      " 'Upper Basement out of 30' '12 out of 14' '16 out of 31' '12 out of 13'\n",
      " '11 out of 51' '2 out of 12' '22 out of 24' '7 out of 14' '5 out of 13'\n",
      " '7 out of 21' '14 out of 21' '17 out of 25' '9 out of 14' '8 out of 27'\n",
      " '3 out of 6' '17 out of 20' '18 out of 22' '1 out of 7' '9 out of 30'\n",
      " '3 out of 8' '11 out of 26' '17 out of 27' '4 out of 12' '12 out of 16'\n",
      " '10 out of 24' '65 out of 76' '7 out of 9' '17 out of 60' '10 out of 11'\n",
      " '18 out of 25' '5 out of 11' '15 out of 17' '15 out of 23' '5 out of 17'\n",
      " '3 out of 28' '5 out of 24' '16 out of 32' '21 out of 22' '7 out of 13'\n",
      " '9 out of 12' '15 out of 32' '18 out of 27' '15 out of 16' '18 out of 45'\n",
      " '15 out of 15' '6 out of 14' '1 out of 20' '16 out of 36' '30 out of 44'\n",
      " '30 out of 37' '2 out of 9' '12 out of 22' '4 out of 9' '2 out of 22'\n",
      " '5 out of 6' '6 out of 18' '35 out of 55' '16 out of 29' '30 out of 45'\n",
      " '5 out of 9' '16 out of 25' '33 out of 42' '4 out of 16' '13 out of 23'\n",
      " '9 out of 38' '6 out of 8' '8 out of 13' '19 out of 30' '10 out of 14'\n",
      " '11 out of 24' '9 out of 16' '9 out of 31' '4 out of 15' '3 out of 9'\n",
      " '22 out of 30' '3 out of 58' '1 out of 9' '53 out of 60' '5 out of 22'\n",
      " '15 out of 22' '19 out of 21' '9 out of 40' 'Ground out of 8'\n",
      " '44 out of 75' '8 out of 17' '3 out of 14' '12 out of 31' '26 out of 42'\n",
      " '2 out of 45' '12 out of 68' '17 out of 36' '10 out of 28' '41 out of 41'\n",
      " '14 out of 68' '14 out of 17' '15 out of 20' '46 out of 76'\n",
      " '12 out of 20' '20 out of 30' '18 out of 32' '10 out of 25'\n",
      " '17 out of 29' '10 out of 31' '10 out of 15' '13 out of 16' '8 out of 10'\n",
      " '18 out of 21' '27 out of 58' '1 out of 6' '19 out of 25' '3 out of 15'\n",
      " '25 out of 43' '8 out of 14' '11 out of 12' '9 out of 21' '10 out of 13'\n",
      " '45 out of 77' '18 out of 19' '10 out of 20' '12 out of 29'\n",
      " 'Lower Basement out of 18' '15 out of 24' '48 out of 68' '12 out of 42'\n",
      " '16 out of 22' '35 out of 68' '18 out of 30' '11 out of 31'\n",
      " '50 out of 75' '18 out of 26' '12 out of 27' '16 out of 20'\n",
      " '24 out of 55' '16 out of 37' 'Upper Basement out of 7' '6 out of 15'\n",
      " '11 out of 27' '11 out of 23' '3 out of 12' '14 out of 15' '23 out of 25'\n",
      " '14 out of 48' '29 out of 35' '15 out of 36' '15 out of 25'\n",
      " '15 out of 28' '3 out of 36' '8 out of 11' '6 out of 20' '23 out of 23'\n",
      " '5 out of 15' '16 out of 18' '2 out of 10' '40 out of 50' '25 out of 28'\n",
      " '12 out of 17' '34 out of 40' 'Upper Basement out of 22' '8 out of 23'\n",
      " '5 out of 21' '32 out of 59' '20 out of 32' '9 out of 18' '10 out of 37'\n",
      " '25 out of 48' '4 out of 22' '8 out of 18' '11 out of 11' '5 out of 23'\n",
      " '60 out of 77' '11 out of 18' '4 out of 20' '5 out of 16' '3 out of 13'\n",
      " '30 out of 58' '15 out of 43' '7 out of 16' '18 out of 28' '9 out of 55'\n",
      " '11 out of 25' '49 out of 55' '7 out of 27' '14 out of 27' '16 out of 27'\n",
      " '25 out of 50' '6 out of 30' '21 out of 23' '8 out of 58' '20 out of 41'\n",
      " '3 out of 62' '4 out of 13' '7 out of 17' '12 out of 21' '28 out of 39'\n",
      " '15 out of 58' '6 out of 23' '36 out of 45' '9 out of 28' '6 out of 45'\n",
      " '22 out of 52' '10 out of 19' '21 out of 58' '48 out of 54' '7 out of 28'\n",
      " '11 out of 15' '19 out of 22' '15 out of 37' '2 out of 17' '76 out of 78'\n",
      " '3 out of 10' '20 out of 27' '8 out of 36' '14 out of 33' '21 out of 21'\n",
      " '12 out of 25' '18 out of 29' '14 out of 35' '7 out of 20' '20 out of 37'\n",
      " '9 out of 35' '27 out of 27' '15 out of 60' '19 out of 33' '18 out of 20'\n",
      " '13 out of 40' '9 out of 11' '8 out of 22' '6 out of 13' '20 out of 31'\n",
      " '27 out of 45' '19 out of 20' '32 out of 46' '19 out of 85' '3 out of 23'\n",
      " '34 out of 46' '4 out of 27' '19 out of 27' '35 out of 60' '21 out of 33'\n",
      " '25 out of 52' '2 out of 24' '24 out of 24' '18 out of 33' '1 out of 10'\n",
      " '45 out of 60' '60 out of 71' '36 out of 81' '24 out of 60'\n",
      " '16 out of 38' '8 out of 45' 'Ground out of 16' '8 out of 32'\n",
      " '10 out of 10' '23 out of 40' '7 out of 18' '8 out of 19' '6 out of 17'\n",
      " '16 out of 34' 'Ground out of 12' '6 out of 9' 'Ground out of 18'\n",
      " '20 out of 25' '3 out of 22' '9 out of 32' '26 out of 32' '17 out of 18'\n",
      " '24 out of 25' '19 out of 26' '17 out of 19' '1 out of 13' '14 out of 30'\n",
      " '8 out of 9' '3 out of 17' 'Lower Basement out of 3' '12 out of 23'\n",
      " 'Ground out of 9' '1 out of 24' '1 out of 12' '3' 'Ground' '15 out of 29'\n",
      " '20 out of 20' '14 out of 29' 'Lower Basement out of 1' '13 out of 17'\n",
      " '1 out of 14' 'Upper Basement out of 2' '2 out of 14' '24 out of 31'\n",
      " '2 out of 32' '2 out of 16' '9 out of 13' '1 out of 11' '6 out of 29'\n",
      " '9 out of 9' '28 out of 31' '1 out of 15' 'Ground out of 14'\n",
      " '2 out of 11' '19 out of 31' '1 out of 16' '25 out of 32' '11 out of 16'\n",
      " '11 out of 17' 'Upper Basement out of 3' '4 out of 24' '1 out of 19'\n",
      " '7 out of 30' '16 out of 19' 'Upper Basement out of 5' 'Ground out of 13'\n",
      " '2 out of 25' '23 out of 30' '4 out of 30' '13 out of 25' '23 out of 35'\n",
      " 'Ground out of 10' '5 out of 34' '20 out of 35' '1' '4 out of 31'\n",
      " '4 out of 26' '24 out of 33' '4 out of 17' '1 out of 35' '11 out of 35'\n",
      " 'Ground out of 15' 'Ground out of 27' '15 out of 30' '12 out of 30'\n",
      " '23 out of 34']\n",
      "\n",
      "['Unfurnished' 'Semi-Furnished' 'Furnished']\n",
      "\n",
      "['Super Area' 'Carpet Area' 'Built Area']\n",
      "\n",
      "['Bachelors/Family' 'Bachelors' 'Family']\n"
     ]
    }
   ],
   "source": [
    "print(df['Floor'].unique())\n",
    "print()\n",
    "print(df['Furnishing Status'].unique())\n",
    "print()\n",
    "print(df['Area Type'].unique())\n",
    "print()\n",
    "print(df['Tenant Preferred'].unique())\n",
    "print()\n",
    "print(df['City'].unique())\n",
    "print()\n",
    "print(df['Point of Contact'].unique())"
   ]
  }
 ],
 "metadata": {
  "kernelspec": {
   "display_name": "venv",
   "language": "python",
   "name": "python3"
  },
  "language_info": {
   "codemirror_mode": {
    "name": "ipython",
    "version": 3
   },
   "file_extension": ".py",
   "mimetype": "text/x-python",
   "name": "python",
   "nbconvert_exporter": "python",
   "pygments_lexer": "ipython3",
   "version": "3.10.8"
  }
 },
 "nbformat": 4,
 "nbformat_minor": 5
}
